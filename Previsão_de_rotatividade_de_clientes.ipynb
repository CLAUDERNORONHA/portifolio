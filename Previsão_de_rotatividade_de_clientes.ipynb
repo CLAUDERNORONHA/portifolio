{
  "nbformat": 4,
  "nbformat_minor": 0,
  "metadata": {
    "colab": {
      "name": "Previsão de rotatividade de clientes.ipynb",
      "provenance": [],
      "collapsed_sections": [],
      "mount_file_id": "155N457bsQcZfS0ebx4f3d29-KRjY5TBy",
      "authorship_tag": "ABX9TyPO/3G/3XfN15N2Msu1wAKy",
      "include_colab_link": true
    },
    "kernelspec": {
      "name": "python3",
      "display_name": "Python 3"
    },
    "language_info": {
      "name": "python"
    }
  },
  "cells": [
    {
      "cell_type": "markdown",
      "metadata": {
        "id": "view-in-github",
        "colab_type": "text"
      },
      "source": [
        "<a href=\"https://colab.research.google.com/github/CLAUDERNORONHA/portifolio/blob/master/Previs%C3%A3o_de_rotatividade_de_clientes.ipynb\" target=\"_parent\"><img src=\"https://colab.research.google.com/assets/colab-badge.svg\" alt=\"Open In Colab\"/></a>"
      ]
    },
    {
      "cell_type": "markdown",
      "metadata": {
        "id": "3sDhpWeXz6r1"
      },
      "source": [
        "Nome: Cluader Noronha\n",
        "\n",
        "Data: 01/11/2021"
      ]
    },
    {
      "cell_type": "markdown",
      "metadata": {
        "id": "0pxW1e9j0GDM"
      },
      "source": [
        "----------"
      ]
    },
    {
      "cell_type": "markdown",
      "metadata": {
        "id": "EyR23-YBJOgQ"
      },
      "source": [
        "# ***A rotatividade de clientes***\n",
        "\n",
        "\n",
        "A rotatividade de clientes acontece quando os clientes ou assinantes de um serviço param de fazer negócios wom uma empresa. Uma empresa considera um cliente como cancelado quando ele não interage com a empresa durante um período de tempo específico. A rotatividade de clientes é uma métrica importante porque é muito mais caro adquirir novos clientes do que reter os clientes existentes. A aquisição de clientes exige o trabalho de leads por meio do canal de vendas e o uso de recursos de vendas e marketing em todo o processo para fazer a venda. Com a retenção de clientes, você já conquistou a confiança e a lealdade dos clientes existentes e deseja continuar a construir relacionamentos significativos com esses clientes. De acordo com uma pesquisa conduzida pela Bain & Company, aumentar as taxas de retenção de clientes em apenas 5% poderia aumentar os lucros em 25 a 95%, dependendo do setor.\n",
        "\n",
        "\n",
        "\n",
        "\n",
        "\n",
        "\n",
        "\n",
        "\n",
        "\n",
        "\n",
        "\n",
        "\n",
        "\n",
        "# ***Causas para desligamento do cliente***\n",
        "\n",
        "\n",
        "Existem quatro razões principais para a rotatividade de clientes.\n",
        "\n",
        "\n",
        "\n",
        "1. Fraco atendimento ao cliente. Um estudo da Oracle descobriu que quase 9 em cada 10 clientes abandonaram uma empresa devido a uma experiência ruim. Além disso, eles descobriram que um bom atendimento ao cliente pode ser uma grande vitória, com 86% dos clientes dispostos a pagar mais por uma melhor experiência do cliente.\n",
        "\n",
        "2. Integração ruim. Depois que um cliente adquire um produto ou serviço, ele precisa ter sucesso ou se beneficiar com o uso do produto ou serviço. Os clientes abandonarão um produto ou serviço se se perderem, não entenderem algo ou não obterem valor do produto.\n",
        "\n",
        "3. Falta de sucesso contínuo do cliente. Os clientes precisam continuar a receber valor de um produto ou serviço. Se seus clientes param de interagir com você e você não os ajuda a obter valor de seu produto ao longo de seu ciclo de vida, existe o risco de perder clientes.\n",
        "\n",
        "4. Causas naturais. Inclui clientes que saem do mercado, mudanças operacionais ou de equipe que levam à mudança de fornecedores ou clientes podem superar seu produto ou serviço.\n",
        "\n",
        "\n",
        "# Como Reter Clientes \n",
        "\n",
        "\n",
        "1. Rastreie e analise as métricas de rotatividade . As empresas precisam rastrear e analisar o número de clientes que abandonam e saber os motivos pelos quais os clientes decidiram abandoná-los. As empresas podem usar essas informações e tomar medidas para evitar mais rotatividade de clientes.\n",
        "\n",
        "\n",
        "2. Implementar um processo de feedback do cliente. Desenvolva um sistema para distribuição, coleta e análise de avaliações e pesquisas de clientes. Isso permite que você entenda melhor as necessidades do cliente e faça ajustes em seu produto ou serviço que agreguem valor aos clientes.\n",
        "\n",
        "\n",
        "3. Manter a comunicação com os clientes. Seja proativo na comunicação com os clientes. Se os clientes não interagem com sua marca há algum tempo, você deve se conectar com eles e restabelecer seu relacionamento. Você pode fornecer ofertas promocionais ou lembrá-los de que sua assinatura está prestes a expirar e é hora de renová-la.\n",
        "\n",
        "\n",
        "4. Desenvolva um Programa de Educação do Cliente. Este programa cria uma variedade de ferramentas de autoatendimento para o cliente, como uma base de conhecimento e um fórum da comunidade que os clientes usam para encontrar soluções para problemas.\n",
        "\n",
        "\n",
        "5. Crie confiança com os clientes. Seja consistente em cumprir a promessa de sua marca e fazer o que você diz que fará com o tempo. Admita e peça desculpas por quaisquer erros que você cometer e tome medidas para resolver os problemas.\n",
        "\n",
        "\n",
        "6. Ofereça serviços exclusivos. Ofereça um produto ou serviço superior aos seus concorrentes. Pode ser um novo produto ou serviço ou um aprimoramento de um produto ou serviço existente que melhora o fluxo de trabalho ou automatiza um processo que beneficia os clientes."
      ]
    },
    {
      "cell_type": "code",
      "metadata": {
        "id": "PjngkH9k0M3b"
      },
      "source": [
        ""
      ],
      "execution_count": null,
      "outputs": []
    },
    {
      "cell_type": "code",
      "metadata": {
        "id": "0QUdlaxEJQ85"
      },
      "source": [
        "import pandas as pd\n",
        "import numpy as np\n",
        "import sklearn\n",
        "import matplotlib.pyplot as plt\n",
        "import seaborn as sns\n",
        "from sklearn.preprocessing import LabelEncoder\n",
        "from sklearn.preprocessing import StandardScaler\n",
        "from sklearn.metrics import accuracy_score, confusion_matrix\n",
        "from sklearn.linear_model import LogisticRegression\n",
        "from sklearn.tree import DecisionTreeClassifier\n",
        "from sklearn.ensemble import RandomForestClassifier\n",
        "from sklearn.neighbors import KNeighborsClassifier\n",
        "from sklearn.model_selection import train_test_split\n",
        "%matplotlib inline"
      ],
      "execution_count": null,
      "outputs": []
    },
    {
      "cell_type": "markdown",
      "metadata": {
        "id": "8rwfKrWfJRC6"
      },
      "source": [
        "O conjunto de dados para este projeto pode ser encontrado no Kaggle neste local:\n",
        "\n",
        "https://www.kaggle.com/blastchar/telco-customer-churn?select=WA_Fn-UseC_-Telco-Customer-Churn.csv"
      ]
    },
    {
      "cell_type": "code",
      "metadata": {
        "id": "Sepv7pbSzXkm"
      },
      "source": [
        ""
      ],
      "execution_count": null,
      "outputs": []
    },
    {
      "cell_type": "markdown",
      "metadata": {
        "id": "gM4-PHL9JjAL"
      },
      "source": [
        "Análise e Exploração de Dados"
      ]
    },
    {
      "cell_type": "code",
      "metadata": {
        "id": "berlT_OoJjFW"
      },
      "source": [
        "clientes = pd.read_csv( '/content/drive/MyDrive/1-CIENCIA DE DADOS-CURSOS_ESTUDO DE CASO/ESTUDO DE CASO/Previsão de rotatividade de clientes/clientes.csv')"
      ],
      "execution_count": null,
      "outputs": []
    },
    {
      "cell_type": "code",
      "metadata": {
        "colab": {
          "base_uri": "https://localhost:8080/",
          "height": 301
        },
        "id": "KDBBOjEzJjM-",
        "outputId": "5d43b26f-8d60-4f1e-a058-3caff427a12a"
      },
      "source": [
        "clientes.head()"
      ],
      "execution_count": null,
      "outputs": [
        {
          "output_type": "execute_result",
          "data": {
            "text/html": [
              "<div>\n",
              "<style scoped>\n",
              "    .dataframe tbody tr th:only-of-type {\n",
              "        vertical-align: middle;\n",
              "    }\n",
              "\n",
              "    .dataframe tbody tr th {\n",
              "        vertical-align: top;\n",
              "    }\n",
              "\n",
              "    .dataframe thead th {\n",
              "        text-align: right;\n",
              "    }\n",
              "</style>\n",
              "<table border=\"1\" class=\"dataframe\">\n",
              "  <thead>\n",
              "    <tr style=\"text-align: right;\">\n",
              "      <th></th>\n",
              "      <th>customerID</th>\n",
              "      <th>gender</th>\n",
              "      <th>SeniorCitizen</th>\n",
              "      <th>Partner</th>\n",
              "      <th>Dependents</th>\n",
              "      <th>tenure</th>\n",
              "      <th>PhoneService</th>\n",
              "      <th>MultipleLines</th>\n",
              "      <th>InternetService</th>\n",
              "      <th>OnlineSecurity</th>\n",
              "      <th>OnlineBackup</th>\n",
              "      <th>DeviceProtection</th>\n",
              "      <th>TechSupport</th>\n",
              "      <th>StreamingTV</th>\n",
              "      <th>StreamingMovies</th>\n",
              "      <th>Contract</th>\n",
              "      <th>PaperlessBilling</th>\n",
              "      <th>PaymentMethod</th>\n",
              "      <th>MonthlyCharges</th>\n",
              "      <th>TotalCharges</th>\n",
              "      <th>Churn</th>\n",
              "    </tr>\n",
              "  </thead>\n",
              "  <tbody>\n",
              "    <tr>\n",
              "      <th>0</th>\n",
              "      <td>7590-VHVEG</td>\n",
              "      <td>Female</td>\n",
              "      <td>0</td>\n",
              "      <td>Yes</td>\n",
              "      <td>No</td>\n",
              "      <td>1</td>\n",
              "      <td>No</td>\n",
              "      <td>No phone service</td>\n",
              "      <td>DSL</td>\n",
              "      <td>No</td>\n",
              "      <td>Yes</td>\n",
              "      <td>No</td>\n",
              "      <td>No</td>\n",
              "      <td>No</td>\n",
              "      <td>No</td>\n",
              "      <td>Month-to-month</td>\n",
              "      <td>Yes</td>\n",
              "      <td>Electronic check</td>\n",
              "      <td>29.85</td>\n",
              "      <td>29.85</td>\n",
              "      <td>No</td>\n",
              "    </tr>\n",
              "    <tr>\n",
              "      <th>1</th>\n",
              "      <td>5575-GNVDE</td>\n",
              "      <td>Male</td>\n",
              "      <td>0</td>\n",
              "      <td>No</td>\n",
              "      <td>No</td>\n",
              "      <td>34</td>\n",
              "      <td>Yes</td>\n",
              "      <td>No</td>\n",
              "      <td>DSL</td>\n",
              "      <td>Yes</td>\n",
              "      <td>No</td>\n",
              "      <td>Yes</td>\n",
              "      <td>No</td>\n",
              "      <td>No</td>\n",
              "      <td>No</td>\n",
              "      <td>One year</td>\n",
              "      <td>No</td>\n",
              "      <td>Mailed check</td>\n",
              "      <td>56.95</td>\n",
              "      <td>1889.5</td>\n",
              "      <td>No</td>\n",
              "    </tr>\n",
              "    <tr>\n",
              "      <th>2</th>\n",
              "      <td>3668-QPYBK</td>\n",
              "      <td>Male</td>\n",
              "      <td>0</td>\n",
              "      <td>No</td>\n",
              "      <td>No</td>\n",
              "      <td>2</td>\n",
              "      <td>Yes</td>\n",
              "      <td>No</td>\n",
              "      <td>DSL</td>\n",
              "      <td>Yes</td>\n",
              "      <td>Yes</td>\n",
              "      <td>No</td>\n",
              "      <td>No</td>\n",
              "      <td>No</td>\n",
              "      <td>No</td>\n",
              "      <td>Month-to-month</td>\n",
              "      <td>Yes</td>\n",
              "      <td>Mailed check</td>\n",
              "      <td>53.85</td>\n",
              "      <td>108.15</td>\n",
              "      <td>Yes</td>\n",
              "    </tr>\n",
              "    <tr>\n",
              "      <th>3</th>\n",
              "      <td>7795-CFOCW</td>\n",
              "      <td>Male</td>\n",
              "      <td>0</td>\n",
              "      <td>No</td>\n",
              "      <td>No</td>\n",
              "      <td>45</td>\n",
              "      <td>No</td>\n",
              "      <td>No phone service</td>\n",
              "      <td>DSL</td>\n",
              "      <td>Yes</td>\n",
              "      <td>No</td>\n",
              "      <td>Yes</td>\n",
              "      <td>Yes</td>\n",
              "      <td>No</td>\n",
              "      <td>No</td>\n",
              "      <td>One year</td>\n",
              "      <td>No</td>\n",
              "      <td>Bank transfer (automatic)</td>\n",
              "      <td>42.30</td>\n",
              "      <td>1840.75</td>\n",
              "      <td>No</td>\n",
              "    </tr>\n",
              "    <tr>\n",
              "      <th>4</th>\n",
              "      <td>9237-HQITU</td>\n",
              "      <td>Female</td>\n",
              "      <td>0</td>\n",
              "      <td>No</td>\n",
              "      <td>No</td>\n",
              "      <td>2</td>\n",
              "      <td>Yes</td>\n",
              "      <td>No</td>\n",
              "      <td>Fiber optic</td>\n",
              "      <td>No</td>\n",
              "      <td>No</td>\n",
              "      <td>No</td>\n",
              "      <td>No</td>\n",
              "      <td>No</td>\n",
              "      <td>No</td>\n",
              "      <td>Month-to-month</td>\n",
              "      <td>Yes</td>\n",
              "      <td>Electronic check</td>\n",
              "      <td>70.70</td>\n",
              "      <td>151.65</td>\n",
              "      <td>Yes</td>\n",
              "    </tr>\n",
              "  </tbody>\n",
              "</table>\n",
              "</div>"
            ],
            "text/plain": [
              "   customerID  gender  SeniorCitizen  ... MonthlyCharges TotalCharges  Churn\n",
              "0  7590-VHVEG  Female              0  ...          29.85        29.85     No\n",
              "1  5575-GNVDE    Male              0  ...          56.95       1889.5     No\n",
              "2  3668-QPYBK    Male              0  ...          53.85       108.15    Yes\n",
              "3  7795-CFOCW    Male              0  ...          42.30      1840.75     No\n",
              "4  9237-HQITU  Female              0  ...          70.70       151.65    Yes\n",
              "\n",
              "[5 rows x 21 columns]"
            ]
          },
          "metadata": {},
          "execution_count": 32
        }
      ]
    },
    {
      "cell_type": "code",
      "metadata": {
        "colab": {
          "base_uri": "https://localhost:8080/"
        },
        "id": "Mer_a_PYJjY1",
        "outputId": "9d275107-62cc-4638-967c-8156fe271c00"
      },
      "source": [
        "clientes.shape"
      ],
      "execution_count": null,
      "outputs": [
        {
          "output_type": "execute_result",
          "data": {
            "text/plain": [
              "(7043, 21)"
            ]
          },
          "metadata": {},
          "execution_count": 33
        }
      ]
    },
    {
      "cell_type": "markdown",
      "metadata": {
        "id": "XgNXP7fVJjdo"
      },
      "source": [
        "As definições das variáveis ​​de dados são mostradas abaixo.\n",
        "\n",
        "\n",
        "- ID do cliente: número de identificação do cliente.\n",
        "\n",
        "- Sexo: Sexo do cliente (Masculino ou Feminino).\n",
        "\n",
        "- Idoso: Cliente idoso ou não (0, 1).\n",
        "Parceiro: o cliente tem parceiro ou não (Sim, Não).\n",
        "\n",
        "- Dependentes: O cliente tem ou não dependentes (Sim, Não).\n",
        "\n",
        "- Cargo: Número de meses que o cliente permaneceu na empresa.\n",
        "\n",
        "- Atendimento Telefônico: O cliente possui ou não serviço telefônico (Sim, Não).\n",
        "\n",
        "- Múltiplas linhas: o cliente tem várias linhas (sim, não, sem serviço telefônico)\n",
        "\n",
        "- Serviço de Internet: provedor de serviços de Internet ao cliente (DSL, fibra óptica, não)\n",
        "\n",
        "- Segurança online: o cliente tem segurança online (sim, não, nenhum serviço de internet)\n",
        "\n",
        "- Backup online: o cliente tem backup online (Sim, Não).\n",
        "\n",
        "- Proteção do dispositivo: o cliente tem proteção do dispositivo (Sim, Não).\n",
        "\n",
        "- Suporte Técnico: O cliente possui \n",
        "\n",
        "- suporte técnico: (Sim, Não).\n",
        "\n",
        "- Filmes em streaming: O cliente tem \n",
        "\n",
        "- filmes em streaming: (Sim, Não).\n",
        "\n",
        "- Contrato: Termo do contrato.\n",
        "\n",
        "- Faturamento sem papel: o cliente possui faturamento sem papel.\n",
        "\n",
        "- Método de pagamento: como os pagamentos são feitos.\n",
        "\n",
        "- Encargos Mensais: Valor do pagamento mensal.\n",
        "\n",
        "- Total de despesas: valor total do pagamento.\n",
        "\n",
        "- Churn: churn do cliente (não = retido, sim = churned)"
      ]
    },
    {
      "cell_type": "code",
      "metadata": {
        "id": "qfIZSkAkKSWY"
      },
      "source": [
        ""
      ],
      "execution_count": null,
      "outputs": []
    },
    {
      "cell_type": "code",
      "metadata": {
        "colab": {
          "base_uri": "https://localhost:8080/",
          "height": 290
        },
        "id": "DBALJBpWKSaI",
        "outputId": "097c8fa0-d8f4-459a-e092-e816a802ef6d"
      },
      "source": [
        "clientes.describe()"
      ],
      "execution_count": null,
      "outputs": [
        {
          "output_type": "execute_result",
          "data": {
            "text/html": [
              "<div>\n",
              "<style scoped>\n",
              "    .dataframe tbody tr th:only-of-type {\n",
              "        vertical-align: middle;\n",
              "    }\n",
              "\n",
              "    .dataframe tbody tr th {\n",
              "        vertical-align: top;\n",
              "    }\n",
              "\n",
              "    .dataframe thead th {\n",
              "        text-align: right;\n",
              "    }\n",
              "</style>\n",
              "<table border=\"1\" class=\"dataframe\">\n",
              "  <thead>\n",
              "    <tr style=\"text-align: right;\">\n",
              "      <th></th>\n",
              "      <th>SeniorCitizen</th>\n",
              "      <th>tenure</th>\n",
              "      <th>MonthlyCharges</th>\n",
              "    </tr>\n",
              "  </thead>\n",
              "  <tbody>\n",
              "    <tr>\n",
              "      <th>count</th>\n",
              "      <td>7043.000000</td>\n",
              "      <td>7043.000000</td>\n",
              "      <td>7043.000000</td>\n",
              "    </tr>\n",
              "    <tr>\n",
              "      <th>mean</th>\n",
              "      <td>0.162147</td>\n",
              "      <td>32.371149</td>\n",
              "      <td>64.761692</td>\n",
              "    </tr>\n",
              "    <tr>\n",
              "      <th>std</th>\n",
              "      <td>0.368612</td>\n",
              "      <td>24.559481</td>\n",
              "      <td>30.090047</td>\n",
              "    </tr>\n",
              "    <tr>\n",
              "      <th>min</th>\n",
              "      <td>0.000000</td>\n",
              "      <td>0.000000</td>\n",
              "      <td>18.250000</td>\n",
              "    </tr>\n",
              "    <tr>\n",
              "      <th>25%</th>\n",
              "      <td>0.000000</td>\n",
              "      <td>9.000000</td>\n",
              "      <td>35.500000</td>\n",
              "    </tr>\n",
              "    <tr>\n",
              "      <th>50%</th>\n",
              "      <td>0.000000</td>\n",
              "      <td>29.000000</td>\n",
              "      <td>70.350000</td>\n",
              "    </tr>\n",
              "    <tr>\n",
              "      <th>75%</th>\n",
              "      <td>0.000000</td>\n",
              "      <td>55.000000</td>\n",
              "      <td>89.850000</td>\n",
              "    </tr>\n",
              "    <tr>\n",
              "      <th>max</th>\n",
              "      <td>1.000000</td>\n",
              "      <td>72.000000</td>\n",
              "      <td>118.750000</td>\n",
              "    </tr>\n",
              "  </tbody>\n",
              "</table>\n",
              "</div>"
            ],
            "text/plain": [
              "       SeniorCitizen       tenure  MonthlyCharges\n",
              "count    7043.000000  7043.000000     7043.000000\n",
              "mean        0.162147    32.371149       64.761692\n",
              "std         0.368612    24.559481       30.090047\n",
              "min         0.000000     0.000000       18.250000\n",
              "25%         0.000000     9.000000       35.500000\n",
              "50%         0.000000    29.000000       70.350000\n",
              "75%         0.000000    55.000000       89.850000\n",
              "max         1.000000    72.000000      118.750000"
            ]
          },
          "metadata": {},
          "execution_count": 34
        }
      ]
    },
    {
      "cell_type": "markdown",
      "metadata": {
        "id": "Gpx30qO0KSdt"
      },
      "source": [
        "As estatísticas mostram que o mandato mais longo é de 72 meses e a cobrança mensal máxima é de $ 118,75.\n",
        "\n",
        "A cobrança mínima mensal é de $ 18,25.\n",
        "\n",
        "O cliente pode esperar uma cobrança média mensal de $ 64,76. Presumo que as cobranças sejam em dólares americanos (USD)."
      ]
    },
    {
      "cell_type": "code",
      "metadata": {
        "colab": {
          "base_uri": "https://localhost:8080/"
        },
        "id": "Ueg6ZWkwNIek",
        "outputId": "726a9255-5bc1-4a77-c626-bd74cb279216"
      },
      "source": [
        "clientes.info()"
      ],
      "execution_count": null,
      "outputs": [
        {
          "output_type": "stream",
          "name": "stdout",
          "text": [
            "<class 'pandas.core.frame.DataFrame'>\n",
            "RangeIndex: 7043 entries, 0 to 7042\n",
            "Data columns (total 21 columns):\n",
            " #   Column            Non-Null Count  Dtype  \n",
            "---  ------            --------------  -----  \n",
            " 0   customerID        7043 non-null   object \n",
            " 1   gender            7043 non-null   object \n",
            " 2   SeniorCitizen     7043 non-null   int64  \n",
            " 3   Partner           7043 non-null   object \n",
            " 4   Dependents        7043 non-null   object \n",
            " 5   tenure            7043 non-null   int64  \n",
            " 6   PhoneService      7043 non-null   object \n",
            " 7   MultipleLines     7043 non-null   object \n",
            " 8   InternetService   7043 non-null   object \n",
            " 9   OnlineSecurity    7043 non-null   object \n",
            " 10  OnlineBackup      7043 non-null   object \n",
            " 11  DeviceProtection  7043 non-null   object \n",
            " 12  TechSupport       7043 non-null   object \n",
            " 13  StreamingTV       7043 non-null   object \n",
            " 14  StreamingMovies   7043 non-null   object \n",
            " 15  Contract          7043 non-null   object \n",
            " 16  PaperlessBilling  7043 non-null   object \n",
            " 17  PaymentMethod     7043 non-null   object \n",
            " 18  MonthlyCharges    7043 non-null   float64\n",
            " 19  TotalCharges      7043 non-null   object \n",
            " 20  Churn             7043 non-null   object \n",
            "dtypes: float64(1), int64(2), object(18)\n",
            "memory usage: 1.1+ MB\n"
          ]
        }
      ]
    },
    {
      "cell_type": "code",
      "metadata": {
        "colab": {
          "base_uri": "https://localhost:8080/"
        },
        "id": "gk6gk6hPNIjF",
        "outputId": "5d668da6-13f6-432b-e1ba-89a88a66206c"
      },
      "source": [
        "#valores Ausentes\n",
        "\n",
        "clientes.isnull().sum()"
      ],
      "execution_count": null,
      "outputs": [
        {
          "output_type": "execute_result",
          "data": {
            "text/plain": [
              "customerID          0\n",
              "gender              0\n",
              "SeniorCitizen       0\n",
              "Partner             0\n",
              "Dependents          0\n",
              "tenure              0\n",
              "PhoneService        0\n",
              "MultipleLines       0\n",
              "InternetService     0\n",
              "OnlineSecurity      0\n",
              "OnlineBackup        0\n",
              "DeviceProtection    0\n",
              "TechSupport         0\n",
              "StreamingTV         0\n",
              "StreamingMovies     0\n",
              "Contract            0\n",
              "PaperlessBilling    0\n",
              "PaymentMethod       0\n",
              "MonthlyCharges      0\n",
              "TotalCharges        0\n",
              "Churn               0\n",
              "dtype: int64"
            ]
          },
          "metadata": {},
          "execution_count": 36
        }
      ]
    },
    {
      "cell_type": "markdown",
      "metadata": {
        "id": "-r5dfe-bNInE"
      },
      "source": [
        "Não tem valores nulos"
      ]
    },
    {
      "cell_type": "code",
      "metadata": {
        "id": "Z1wDJ65cNIrH"
      },
      "source": [
        ""
      ],
      "execution_count": null,
      "outputs": []
    },
    {
      "cell_type": "markdown",
      "metadata": {
        "id": "b2Rp2JzBNIwW"
      },
      "source": [
        "Mostrar o número de clientes RETIDOS e o número de clientes CANCELADOS"
      ]
    },
    {
      "cell_type": "code",
      "metadata": {
        "colab": {
          "base_uri": "https://localhost:8080/"
        },
        "id": "Md0lSoIMNI1e",
        "outputId": "4dbbb6dd-79ea-4f8c-d057-3e13487c3b5e"
      },
      "source": [
        "clientes['Churn'].value_counts()"
      ],
      "execution_count": null,
      "outputs": [
        {
          "output_type": "execute_result",
          "data": {
            "text/plain": [
              "No     5174\n",
              "Yes    1869\n",
              "Name: Churn, dtype: int64"
            ]
          },
          "metadata": {},
          "execution_count": 37
        }
      ]
    },
    {
      "cell_type": "code",
      "metadata": {
        "colab": {
          "base_uri": "https://localhost:8080/",
          "height": 331
        },
        "id": "HNraFJZCNI6Y",
        "outputId": "5642743e-e7b7-4733-c795-457d32dc5fb9"
      },
      "source": [
        "sns.countplot(clientes['Churn']);\n"
      ],
      "execution_count": null,
      "outputs": [
        {
          "output_type": "stream",
          "name": "stderr",
          "text": [
            "/usr/local/lib/python3.7/dist-packages/seaborn/_decorators.py:43: FutureWarning: Pass the following variable as a keyword arg: x. From version 0.12, the only valid positional argument will be `data`, and passing other arguments without an explicit keyword will result in an error or misinterpretation.\n",
            "  FutureWarning\n"
          ]
        },
        {
          "output_type": "display_data",
          "data": {
            "image/png": "[encoded data removed]",
            "text/plain": [
              "<Figure size 432x288 with 1 Axes>"
            ]
          },
          "metadata": {
            "needs_background": "light"
          }
        }
      ]
    },
    {
      "cell_type": "code",
      "metadata": {
        "id": "XwS5u6CqNI_X"
      },
      "source": [
        ""
      ],
      "execution_count": null,
      "outputs": []
    },
    {
      "cell_type": "markdown",
      "metadata": {
        "id": "Aac3jC1tNJFX"
      },
      "source": [
        "Mostrar porcentagens de clientes que ficam e clientes que saem"
      ]
    },
    {
      "cell_type": "code",
      "metadata": {
        "id": "wjZJ1dkgNJLh"
      },
      "source": [
        "retidos = clientes[clientes.Churn == 'No']\n",
        "saem = clientes[clientes.Churn == 'Yes']\n",
        "num_retidos = retidos.shape[0]\n",
        "num_saem = saem.shape[0]"
      ],
      "execution_count": null,
      "outputs": []
    },
    {
      "cell_type": "code",
      "metadata": {
        "colab": {
          "base_uri": "https://localhost:8080/"
        },
        "id": "uxL53wFyNJQy",
        "outputId": "3a79a70b-3f96-4cd6-b9ca-92b17884b60d"
      },
      "source": [
        "#POrcentagem que ficaram na empresa\n",
        "print(num_retidos / (num_retidos + num_saem) * 100, '% de clientes que permaneceram na empresa')"
      ],
      "execution_count": null,
      "outputs": [
        {
          "output_type": "stream",
          "name": "stdout",
          "text": [
            "73.4630129206304 % de clientes que permaneceram na empresa\n"
          ]
        }
      ]
    },
    {
      "cell_type": "code",
      "metadata": {
        "colab": {
          "base_uri": "https://localhost:8080/"
        },
        "id": "XzxgYPXYNJVc",
        "outputId": "777d815e-a23d-4168-bbf3-07549d173b60"
      },
      "source": [
        "#POrcentagem que deixaram a empresa\n",
        "\n",
        "print(num_saem / (num_retidos + num_saem) * 100, '% de clientes que deixaram a empresa.')"
      ],
      "execution_count": null,
      "outputs": [
        {
          "output_type": "stream",
          "name": "stdout",
          "text": [
            "26.536987079369588 % de clientes que deixaram a empresa.\n"
          ]
        }
      ]
    },
    {
      "cell_type": "markdown",
      "metadata": {
        "id": "y--FDtqoNJag"
      },
      "source": [
        "73,4630129206304% dos clientes que permaneceram na empresa.\n",
        "\n",
        "26,536987079369588% dos clientes que deixaram a empresa.\n",
        "Verificamos que 73,46% dos clientes foram retidos (permaneceram na empresa) e 26,54% dos clientes cancelaram (saíram da empresa)."
      ]
    },
    {
      "cell_type": "code",
      "metadata": {
        "id": "uQz-vAT6NJfb"
      },
      "source": [
        ""
      ],
      "execution_count": null,
      "outputs": []
    },
    {
      "cell_type": "markdown",
      "metadata": {
        "id": "tCgwWiHrNJkC"
      },
      "source": [
        "ROTATIVIDADE PARA HOMENS E MULHERES"
      ]
    },
    {
      "cell_type": "code",
      "metadata": {
        "colab": {
          "base_uri": "https://localhost:8080/",
          "height": 278
        },
        "id": "k6_T2UvnNJof",
        "outputId": "889e5cb6-ef9c-42c3-c01c-2b2518b82463"
      },
      "source": [
        "sns.countplot(x = 'gender', hue='Churn', data=clientes);"
      ],
      "execution_count": null,
      "outputs": [
        {
          "output_type": "display_data",
          "data": {
            "image/png": "[encoded data removed]",
            "text/plain": [
              "<Figure size 432x288 with 1 Axes>"
            ]
          },
          "metadata": {
            "needs_background": "light"
          }
        }
      ]
    },
    {
      "cell_type": "code",
      "metadata": {
        "id": "DyBJCai-NJtM"
      },
      "source": [
        ""
      ],
      "execution_count": null,
      "outputs": []
    },
    {
      "cell_type": "markdown",
      "metadata": {
        "id": "nlfLOc1eRYlI"
      },
      "source": [
        "CONTAGEM ROTATIVA DOS IDOSOS "
      ]
    },
    {
      "cell_type": "code",
      "metadata": {
        "colab": {
          "base_uri": "https://localhost:8080/",
          "height": 295
        },
        "id": "VBUrBiMgRYpJ",
        "outputId": "2d7e648a-7227-442e-f950-1f3dc5045a1b"
      },
      "source": [
        "sns.countplot(x = 'SeniorCitizen', hue='Churn', data= clientes)"
      ],
      "execution_count": null,
      "outputs": [
        {
          "output_type": "execute_result",
          "data": {
            "text/plain": [
              "<matplotlib.axes._subplots.AxesSubplot at 0x7f3263ae8dd0>"
            ]
          },
          "metadata": {},
          "execution_count": 43
        },
        {
          "output_type": "display_data",
          "data": {
            "image/png": "[encoded data removed]",
            "text/plain": [
              "<Figure size 432x288 with 1 Axes>"
            ]
          },
          "metadata": {
            "needs_background": "light"
          }
        }
      ]
    },
    {
      "cell_type": "code",
      "metadata": {
        "id": "25gAmHJgRYtJ"
      },
      "source": [
        ""
      ],
      "execution_count": null,
      "outputs": []
    },
    {
      "cell_type": "markdown",
      "metadata": {
        "id": "nIm01thFRYw2"
      },
      "source": [
        "CONTAGEM DE DE TIPO DE CONTRATO"
      ]
    },
    {
      "cell_type": "code",
      "metadata": {
        "colab": {
          "base_uri": "https://localhost:8080/",
          "height": 295
        },
        "id": "VzuJjK06RY0O",
        "outputId": "f07a4340-1001-41f4-a084-d1fb7c8f22a1"
      },
      "source": [
        "sns.countplot(x='Contract', hue='Churn', data=clientes)"
      ],
      "execution_count": null,
      "outputs": [
        {
          "output_type": "execute_result",
          "data": {
            "text/plain": [
              "<matplotlib.axes._subplots.AxesSubplot at 0x7f3263acf9d0>"
            ]
          },
          "metadata": {},
          "execution_count": 44
        },
        {
          "output_type": "display_data",
          "data": {
            "image/png": "[encoded data removed]",
            "text/plain": [
              "<Figure size 432x288 with 1 Axes>"
            ]
          },
          "metadata": {
            "needs_background": "light"
          }
        }
      ]
    },
    {
      "cell_type": "code",
      "metadata": {
        "id": "R_yXYb_KRY5h"
      },
      "source": [
        ""
      ],
      "execution_count": null,
      "outputs": []
    },
    {
      "cell_type": "markdown",
      "metadata": {
        "id": "06GXG-LrNJxn"
      },
      "source": [
        "CONTAGEM DE CANCELAMENTO POR TELEFONE"
      ]
    },
    {
      "cell_type": "code",
      "metadata": {
        "colab": {
          "base_uri": "https://localhost:8080/",
          "height": 278
        },
        "id": "vxOqkW_WNJ1n",
        "outputId": "39394264-8c93-41fd-df41-44b9f85306a1"
      },
      "source": [
        "sns.countplot(x = 'PhoneService', hue='Churn', data= clientes);"
      ],
      "execution_count": null,
      "outputs": [
        {
          "output_type": "display_data",
          "data": {
            "image/png": "[encoded data removed]",
            "text/plain": [
              "<Figure size 432x288 with 1 Axes>"
            ]
          },
          "metadata": {
            "needs_background": "light"
          }
        }
      ]
    },
    {
      "cell_type": "code",
      "metadata": {
        "id": "ZCpdKyA1fcFg"
      },
      "source": [
        ""
      ],
      "execution_count": null,
      "outputs": []
    },
    {
      "cell_type": "markdown",
      "metadata": {
        "id": "hcu1cItcfcJa"
      },
      "source": [
        "CONTAGEM DE CANCELAMENTO FEITO  PARA CADA TIPO DE SERVIÇO DE INTERNET"
      ]
    },
    {
      "cell_type": "code",
      "metadata": {
        "colab": {
          "base_uri": "https://localhost:8080/",
          "height": 278
        },
        "id": "MCmsytHRfcM2",
        "outputId": "49dd2577-da8a-4372-adfa-837a28ee358d"
      },
      "source": [
        "sns.countplot(x = 'InternetService', hue= 'Churn', data= clientes);"
      ],
      "execution_count": null,
      "outputs": [
        {
          "output_type": "display_data",
          "data": {
            "image/png": "[encoded data removed]",
            "text/plain": [
              "<Figure size 432x288 with 1 Axes>"
            ]
          },
          "metadata": {
            "needs_background": "light"
          }
        }
      ]
    },
    {
      "cell_type": "markdown",
      "metadata": {
        "id": "TaOfQg-HfcQD"
      },
      "source": [
        "O resumo das descobertas inclui o seguinte:\n",
        "\n",
        "\n",
        "\n",
        "\n",
        "\n",
        "- 73,46% dos clientes foram retidos e 26,54% dos clientes cancelaram.\n",
        "\n",
        "- O gênero não parece desempenhar um papel na rotatividade de clientes.\n",
        "\n",
        "- A maioria dos clientes são jovens e não idosos.\n",
        "\n",
        "- Os clientes com contratos mensais têm maior probabilidade de se desligar do que os clientes com contratos de um ou dois anos.\n",
        "\n",
        "- A maioria dos clientes tem serviço de telefone.\n",
        "\n",
        "- Os clientes com serviço de Internet de fibra ótica são mais propensos a se desligar do que os clientes com DSL ou sem serviço de Internet."
      ]
    },
    {
      "cell_type": "code",
      "metadata": {
        "id": "KT5QKV5nhlxV"
      },
      "source": [
        ""
      ],
      "execution_count": null,
      "outputs": []
    },
    {
      "cell_type": "markdown",
      "metadata": {
        "id": "NHiCfYXJiG_n"
      },
      "source": [
        "--------------"
      ]
    },
    {
      "cell_type": "code",
      "metadata": {
        "id": "CiCOP4kRhmD2"
      },
      "source": [
        ""
      ],
      "execution_count": null,
      "outputs": []
    },
    {
      "cell_type": "markdown",
      "metadata": {
        "id": "k8pud_YphmG2"
      },
      "source": [
        "LIMPEZA  E NORMALIZAÇÃO DE DADOS"
      ]
    },
    {
      "cell_type": "code",
      "metadata": {
        "id": "9V6ByyyGfcS0"
      },
      "source": [
        "#Remova os seguintes recursos porque eles agragam pouco valor ao modelo\n",
        "#Ter recursos desnecessário aumenta a complexidade do modelo.\n",
        "\n",
        "colunas = ['customerID', 'gender','PhoneService', 'Contract', 'TotalCharges']\n",
        "clientes = clientes.drop(columns= colunas, axis = 1)"
      ],
      "execution_count": null,
      "outputs": []
    },
    {
      "cell_type": "code",
      "metadata": {
        "colab": {
          "base_uri": "https://localhost:8080/",
          "height": 526
        },
        "id": "Ug2gAsHpNJ5-",
        "outputId": "a8f173ae-7ae1-456a-927c-b09169078888"
      },
      "source": [
        "clientes"
      ],
      "execution_count": null,
      "outputs": [
        {
          "output_type": "execute_result",
          "data": {
            "text/html": [
              "<div>\n",
              "<style scoped>\n",
              "    .dataframe tbody tr th:only-of-type {\n",
              "        vertical-align: middle;\n",
              "    }\n",
              "\n",
              "    .dataframe tbody tr th {\n",
              "        vertical-align: top;\n",
              "    }\n",
              "\n",
              "    .dataframe thead th {\n",
              "        text-align: right;\n",
              "    }\n",
              "</style>\n",
              "<table border=\"1\" class=\"dataframe\">\n",
              "  <thead>\n",
              "    <tr style=\"text-align: right;\">\n",
              "      <th></th>\n",
              "      <th>SeniorCitizen</th>\n",
              "      <th>Partner</th>\n",
              "      <th>Dependents</th>\n",
              "      <th>tenure</th>\n",
              "      <th>MultipleLines</th>\n",
              "      <th>InternetService</th>\n",
              "      <th>OnlineSecurity</th>\n",
              "      <th>OnlineBackup</th>\n",
              "      <th>DeviceProtection</th>\n",
              "      <th>TechSupport</th>\n",
              "      <th>StreamingTV</th>\n",
              "      <th>StreamingMovies</th>\n",
              "      <th>PaperlessBilling</th>\n",
              "      <th>PaymentMethod</th>\n",
              "      <th>MonthlyCharges</th>\n",
              "      <th>Churn</th>\n",
              "    </tr>\n",
              "  </thead>\n",
              "  <tbody>\n",
              "    <tr>\n",
              "      <th>0</th>\n",
              "      <td>0</td>\n",
              "      <td>Yes</td>\n",
              "      <td>No</td>\n",
              "      <td>1</td>\n",
              "      <td>No phone service</td>\n",
              "      <td>DSL</td>\n",
              "      <td>No</td>\n",
              "      <td>Yes</td>\n",
              "      <td>No</td>\n",
              "      <td>No</td>\n",
              "      <td>No</td>\n",
              "      <td>No</td>\n",
              "      <td>Yes</td>\n",
              "      <td>Electronic check</td>\n",
              "      <td>29.85</td>\n",
              "      <td>No</td>\n",
              "    </tr>\n",
              "    <tr>\n",
              "      <th>1</th>\n",
              "      <td>0</td>\n",
              "      <td>No</td>\n",
              "      <td>No</td>\n",
              "      <td>34</td>\n",
              "      <td>No</td>\n",
              "      <td>DSL</td>\n",
              "      <td>Yes</td>\n",
              "      <td>No</td>\n",
              "      <td>Yes</td>\n",
              "      <td>No</td>\n",
              "      <td>No</td>\n",
              "      <td>No</td>\n",
              "      <td>No</td>\n",
              "      <td>Mailed check</td>\n",
              "      <td>56.95</td>\n",
              "      <td>No</td>\n",
              "    </tr>\n",
              "    <tr>\n",
              "      <th>2</th>\n",
              "      <td>0</td>\n",
              "      <td>No</td>\n",
              "      <td>No</td>\n",
              "      <td>2</td>\n",
              "      <td>No</td>\n",
              "      <td>DSL</td>\n",
              "      <td>Yes</td>\n",
              "      <td>Yes</td>\n",
              "      <td>No</td>\n",
              "      <td>No</td>\n",
              "      <td>No</td>\n",
              "      <td>No</td>\n",
              "      <td>Yes</td>\n",
              "      <td>Mailed check</td>\n",
              "      <td>53.85</td>\n",
              "      <td>Yes</td>\n",
              "    </tr>\n",
              "    <tr>\n",
              "      <th>3</th>\n",
              "      <td>0</td>\n",
              "      <td>No</td>\n",
              "      <td>No</td>\n",
              "      <td>45</td>\n",
              "      <td>No phone service</td>\n",
              "      <td>DSL</td>\n",
              "      <td>Yes</td>\n",
              "      <td>No</td>\n",
              "      <td>Yes</td>\n",
              "      <td>Yes</td>\n",
              "      <td>No</td>\n",
              "      <td>No</td>\n",
              "      <td>No</td>\n",
              "      <td>Bank transfer (automatic)</td>\n",
              "      <td>42.30</td>\n",
              "      <td>No</td>\n",
              "    </tr>\n",
              "    <tr>\n",
              "      <th>4</th>\n",
              "      <td>0</td>\n",
              "      <td>No</td>\n",
              "      <td>No</td>\n",
              "      <td>2</td>\n",
              "      <td>No</td>\n",
              "      <td>Fiber optic</td>\n",
              "      <td>No</td>\n",
              "      <td>No</td>\n",
              "      <td>No</td>\n",
              "      <td>No</td>\n",
              "      <td>No</td>\n",
              "      <td>No</td>\n",
              "      <td>Yes</td>\n",
              "      <td>Electronic check</td>\n",
              "      <td>70.70</td>\n",
              "      <td>Yes</td>\n",
              "    </tr>\n",
              "    <tr>\n",
              "      <th>...</th>\n",
              "      <td>...</td>\n",
              "      <td>...</td>\n",
              "      <td>...</td>\n",
              "      <td>...</td>\n",
              "      <td>...</td>\n",
              "      <td>...</td>\n",
              "      <td>...</td>\n",
              "      <td>...</td>\n",
              "      <td>...</td>\n",
              "      <td>...</td>\n",
              "      <td>...</td>\n",
              "      <td>...</td>\n",
              "      <td>...</td>\n",
              "      <td>...</td>\n",
              "      <td>...</td>\n",
              "      <td>...</td>\n",
              "    </tr>\n",
              "    <tr>\n",
              "      <th>7038</th>\n",
              "      <td>0</td>\n",
              "      <td>Yes</td>\n",
              "      <td>Yes</td>\n",
              "      <td>24</td>\n",
              "      <td>Yes</td>\n",
              "      <td>DSL</td>\n",
              "      <td>Yes</td>\n",
              "      <td>No</td>\n",
              "      <td>Yes</td>\n",
              "      <td>Yes</td>\n",
              "      <td>Yes</td>\n",
              "      <td>Yes</td>\n",
              "      <td>Yes</td>\n",
              "      <td>Mailed check</td>\n",
              "      <td>84.80</td>\n",
              "      <td>No</td>\n",
              "    </tr>\n",
              "    <tr>\n",
              "      <th>7039</th>\n",
              "      <td>0</td>\n",
              "      <td>Yes</td>\n",
              "      <td>Yes</td>\n",
              "      <td>72</td>\n",
              "      <td>Yes</td>\n",
              "      <td>Fiber optic</td>\n",
              "      <td>No</td>\n",
              "      <td>Yes</td>\n",
              "      <td>Yes</td>\n",
              "      <td>No</td>\n",
              "      <td>Yes</td>\n",
              "      <td>Yes</td>\n",
              "      <td>Yes</td>\n",
              "      <td>Credit card (automatic)</td>\n",
              "      <td>103.20</td>\n",
              "      <td>No</td>\n",
              "    </tr>\n",
              "    <tr>\n",
              "      <th>7040</th>\n",
              "      <td>0</td>\n",
              "      <td>Yes</td>\n",
              "      <td>Yes</td>\n",
              "      <td>11</td>\n",
              "      <td>No phone service</td>\n",
              "      <td>DSL</td>\n",
              "      <td>Yes</td>\n",
              "      <td>No</td>\n",
              "      <td>No</td>\n",
              "      <td>No</td>\n",
              "      <td>No</td>\n",
              "      <td>No</td>\n",
              "      <td>Yes</td>\n",
              "      <td>Electronic check</td>\n",
              "      <td>29.60</td>\n",
              "      <td>No</td>\n",
              "    </tr>\n",
              "    <tr>\n",
              "      <th>7041</th>\n",
              "      <td>1</td>\n",
              "      <td>Yes</td>\n",
              "      <td>No</td>\n",
              "      <td>4</td>\n",
              "      <td>Yes</td>\n",
              "      <td>Fiber optic</td>\n",
              "      <td>No</td>\n",
              "      <td>No</td>\n",
              "      <td>No</td>\n",
              "      <td>No</td>\n",
              "      <td>No</td>\n",
              "      <td>No</td>\n",
              "      <td>Yes</td>\n",
              "      <td>Mailed check</td>\n",
              "      <td>74.40</td>\n",
              "      <td>Yes</td>\n",
              "    </tr>\n",
              "    <tr>\n",
              "      <th>7042</th>\n",
              "      <td>0</td>\n",
              "      <td>No</td>\n",
              "      <td>No</td>\n",
              "      <td>66</td>\n",
              "      <td>No</td>\n",
              "      <td>Fiber optic</td>\n",
              "      <td>Yes</td>\n",
              "      <td>No</td>\n",
              "      <td>Yes</td>\n",
              "      <td>Yes</td>\n",
              "      <td>Yes</td>\n",
              "      <td>Yes</td>\n",
              "      <td>Yes</td>\n",
              "      <td>Bank transfer (automatic)</td>\n",
              "      <td>105.65</td>\n",
              "      <td>No</td>\n",
              "    </tr>\n",
              "  </tbody>\n",
              "</table>\n",
              "<p>7043 rows × 16 columns</p>\n",
              "</div>"
            ],
            "text/plain": [
              "      SeniorCitizen Partner  ... MonthlyCharges  Churn\n",
              "0                 0     Yes  ...          29.85     No\n",
              "1                 0      No  ...          56.95     No\n",
              "2                 0      No  ...          53.85    Yes\n",
              "3                 0      No  ...          42.30     No\n",
              "4                 0      No  ...          70.70    Yes\n",
              "...             ...     ...  ...            ...    ...\n",
              "7038              0     Yes  ...          84.80     No\n",
              "7039              0     Yes  ...         103.20     No\n",
              "7040              0     Yes  ...          29.60     No\n",
              "7041              1     Yes  ...          74.40    Yes\n",
              "7042              0      No  ...         105.65     No\n",
              "\n",
              "[7043 rows x 16 columns]"
            ]
          },
          "metadata": {},
          "execution_count": 48
        }
      ]
    },
    {
      "cell_type": "code",
      "metadata": {
        "colab": {
          "base_uri": "https://localhost:8080/"
        },
        "id": "yE2v1alAJRH7",
        "outputId": "703c805e-09bf-4901-8a71-65d9f55500a2"
      },
      "source": [
        "#Converter todas as colunas não numéricas em tipos de dados numéricos\n",
        "\n",
        "for column in clientes.columns:\n",
        "  if clientes[column].dtype == np.number:\n",
        "    continue\n",
        "  clientes[column] = LabelEncoder().fit_transform(clientes[column])  "
      ],
      "execution_count": null,
      "outputs": [
        {
          "output_type": "stream",
          "name": "stderr",
          "text": [
            "/usr/local/lib/python3.7/dist-packages/ipykernel_launcher.py:4: DeprecationWarning: Converting `np.inexact` or `np.floating` to a dtype is deprecated. The current result is `float64` which is not strictly correct.\n",
            "  after removing the cwd from sys.path.\n"
          ]
        }
      ]
    },
    {
      "cell_type": "code",
      "metadata": {
        "colab": {
          "base_uri": "https://localhost:8080/",
          "height": 220
        },
        "id": "9EuAWakul5Lo",
        "outputId": "d05d3818-2577-4e14-8210-c0d930f05abe"
      },
      "source": [
        "#Conferir se teve a mudança\n",
        "\n",
        "clientes.head()"
      ],
      "execution_count": null,
      "outputs": [
        {
          "output_type": "execute_result",
          "data": {
            "text/html": [
              "<div>\n",
              "<style scoped>\n",
              "    .dataframe tbody tr th:only-of-type {\n",
              "        vertical-align: middle;\n",
              "    }\n",
              "\n",
              "    .dataframe tbody tr th {\n",
              "        vertical-align: top;\n",
              "    }\n",
              "\n",
              "    .dataframe thead th {\n",
              "        text-align: right;\n",
              "    }\n",
              "</style>\n",
              "<table border=\"1\" class=\"dataframe\">\n",
              "  <thead>\n",
              "    <tr style=\"text-align: right;\">\n",
              "      <th></th>\n",
              "      <th>SeniorCitizen</th>\n",
              "      <th>Partner</th>\n",
              "      <th>Dependents</th>\n",
              "      <th>tenure</th>\n",
              "      <th>MultipleLines</th>\n",
              "      <th>InternetService</th>\n",
              "      <th>OnlineSecurity</th>\n",
              "      <th>OnlineBackup</th>\n",
              "      <th>DeviceProtection</th>\n",
              "      <th>TechSupport</th>\n",
              "      <th>StreamingTV</th>\n",
              "      <th>StreamingMovies</th>\n",
              "      <th>PaperlessBilling</th>\n",
              "      <th>PaymentMethod</th>\n",
              "      <th>MonthlyCharges</th>\n",
              "      <th>Churn</th>\n",
              "    </tr>\n",
              "  </thead>\n",
              "  <tbody>\n",
              "    <tr>\n",
              "      <th>0</th>\n",
              "      <td>0</td>\n",
              "      <td>1</td>\n",
              "      <td>0</td>\n",
              "      <td>1</td>\n",
              "      <td>1</td>\n",
              "      <td>0</td>\n",
              "      <td>0</td>\n",
              "      <td>2</td>\n",
              "      <td>0</td>\n",
              "      <td>0</td>\n",
              "      <td>0</td>\n",
              "      <td>0</td>\n",
              "      <td>1</td>\n",
              "      <td>2</td>\n",
              "      <td>29.85</td>\n",
              "      <td>0</td>\n",
              "    </tr>\n",
              "    <tr>\n",
              "      <th>1</th>\n",
              "      <td>0</td>\n",
              "      <td>0</td>\n",
              "      <td>0</td>\n",
              "      <td>34</td>\n",
              "      <td>0</td>\n",
              "      <td>0</td>\n",
              "      <td>2</td>\n",
              "      <td>0</td>\n",
              "      <td>2</td>\n",
              "      <td>0</td>\n",
              "      <td>0</td>\n",
              "      <td>0</td>\n",
              "      <td>0</td>\n",
              "      <td>3</td>\n",
              "      <td>56.95</td>\n",
              "      <td>0</td>\n",
              "    </tr>\n",
              "    <tr>\n",
              "      <th>2</th>\n",
              "      <td>0</td>\n",
              "      <td>0</td>\n",
              "      <td>0</td>\n",
              "      <td>2</td>\n",
              "      <td>0</td>\n",
              "      <td>0</td>\n",
              "      <td>2</td>\n",
              "      <td>2</td>\n",
              "      <td>0</td>\n",
              "      <td>0</td>\n",
              "      <td>0</td>\n",
              "      <td>0</td>\n",
              "      <td>1</td>\n",
              "      <td>3</td>\n",
              "      <td>53.85</td>\n",
              "      <td>1</td>\n",
              "    </tr>\n",
              "    <tr>\n",
              "      <th>3</th>\n",
              "      <td>0</td>\n",
              "      <td>0</td>\n",
              "      <td>0</td>\n",
              "      <td>45</td>\n",
              "      <td>1</td>\n",
              "      <td>0</td>\n",
              "      <td>2</td>\n",
              "      <td>0</td>\n",
              "      <td>2</td>\n",
              "      <td>2</td>\n",
              "      <td>0</td>\n",
              "      <td>0</td>\n",
              "      <td>0</td>\n",
              "      <td>0</td>\n",
              "      <td>42.30</td>\n",
              "      <td>0</td>\n",
              "    </tr>\n",
              "    <tr>\n",
              "      <th>4</th>\n",
              "      <td>0</td>\n",
              "      <td>0</td>\n",
              "      <td>0</td>\n",
              "      <td>2</td>\n",
              "      <td>0</td>\n",
              "      <td>1</td>\n",
              "      <td>0</td>\n",
              "      <td>0</td>\n",
              "      <td>0</td>\n",
              "      <td>0</td>\n",
              "      <td>0</td>\n",
              "      <td>0</td>\n",
              "      <td>1</td>\n",
              "      <td>2</td>\n",
              "      <td>70.70</td>\n",
              "      <td>1</td>\n",
              "    </tr>\n",
              "  </tbody>\n",
              "</table>\n",
              "</div>"
            ],
            "text/plain": [
              "   SeniorCitizen  Partner  Dependents  ...  PaymentMethod  MonthlyCharges  Churn\n",
              "0              0        1           0  ...              2           29.85      0\n",
              "1              0        0           0  ...              3           56.95      0\n",
              "2              0        0           0  ...              3           53.85      1\n",
              "3              0        0           0  ...              0           42.30      0\n",
              "4              0        0           0  ...              2           70.70      1\n",
              "\n",
              "[5 rows x 16 columns]"
            ]
          },
          "metadata": {},
          "execution_count": 50
        }
      ]
    },
    {
      "cell_type": "markdown",
      "metadata": {
        "id": "3pn6ukPSl5QC"
      },
      "source": [
        "----------"
      ]
    },
    {
      "cell_type": "markdown",
      "metadata": {
        "id": "xlOvO9Xhl5UN"
      },
      "source": [
        "Divida os dados em conjuntos de dados de teste e treinamento\n",
        "\n",
        "\n",
        "Primeiro, precisamos dividir nossos dados em valores x (os dados que usaremos para fazer previsões) e valores y (os dados que estamos tentando prever)."
      ]
    },
    {
      "cell_type": "code",
      "metadata": {
        "id": "MQb1VX4wl5Xx"
      },
      "source": [
        "x_data = clientes.drop('Churn', axis = 1)\n",
        "y_data = clientes['Churn']"
      ],
      "execution_count": null,
      "outputs": []
    },
    {
      "cell_type": "code",
      "metadata": {
        "id": "VqTBGm69l5bQ"
      },
      "source": [
        "#Dimensionar os dados X para ter valores entre 0 e 1\n",
        "\n",
        "x_data = StandardScaler().fit_transform(x_data)"
      ],
      "execution_count": null,
      "outputs": []
    },
    {
      "cell_type": "code",
      "metadata": {
        "id": "QZNLR_ZVjDd2"
      },
      "source": [
        ""
      ],
      "execution_count": null,
      "outputs": []
    },
    {
      "cell_type": "markdown",
      "metadata": {
        "id": "yTAukuUxjGHg"
      },
      "source": [
        "Use a função de divisão de teste de trem para gerar dados de treinamento e dados de teste. O conjunto de dados de teste será 30% do conjunto de dados original."
      ]
    },
    {
      "cell_type": "code",
      "metadata": {
        "id": "2xZKr0mSjGMH"
      },
      "source": [
        "x_treino_data, x_test_data, y_treino_data, y_test_data = train_test_split(x_data, y_data, test_size = 0.3, random_state = 42)"
      ],
      "execution_count": null,
      "outputs": []
    },
    {
      "cell_type": "code",
      "metadata": {
        "id": "WuxkZTDujGQC"
      },
      "source": [
        ""
      ],
      "execution_count": null,
      "outputs": []
    },
    {
      "cell_type": "markdown",
      "metadata": {
        "id": "-MPws8MCjGTy"
      },
      "source": [
        "Agora vamos treinar modelos, fazer previsões e avaliar o desempenho de quatro modelos diferentes.\n",
        "\n",
        "\n",
        "\n",
        "Modelo de Regressão Logística"
      ]
    },
    {
      "cell_type": "code",
      "metadata": {
        "id": "jmEGAtTmjGbV"
      },
      "source": [
        "#Crie uma instância do classificado e atribua a um modelo\n",
        "\n",
        "modelo_lg = LogisticRegression()"
      ],
      "execution_count": null,
      "outputs": []
    },
    {
      "cell_type": "code",
      "metadata": {
        "colab": {
          "base_uri": "https://localhost:8080/"
        },
        "id": "0_4Tm23bjGej",
        "outputId": "3bef5888-f66e-45bd-878b-9ee9849ed826"
      },
      "source": [
        "#Treino o modelo usando o método de ajuste e os dados de treinamento \n",
        "\n",
        "modelo_lg.fit(x_treino_data, y_treino_data)"
      ],
      "execution_count": null,
      "outputs": [
        {
          "output_type": "execute_result",
          "data": {
            "text/plain": [
              "LogisticRegression(C=1.0, class_weight=None, dual=False, fit_intercept=True,\n",
              "                   intercept_scaling=1, l1_ratio=None, max_iter=100,\n",
              "                   multi_class='auto', n_jobs=None, penalty='l2',\n",
              "                   random_state=None, solver='lbfgs', tol=0.0001, verbose=0,\n",
              "                   warm_start=False)"
            ]
          },
          "metadata": {},
          "execution_count": 55
        }
      ]
    },
    {
      "cell_type": "code",
      "metadata": {
        "id": "vRq-wpDqjGhz"
      },
      "source": [
        "#Faça previsões sobre os dados de teste\n",
        "\n",
        "predicao_lr = modelo_lg.predict(x_test_data)"
      ],
      "execution_count": null,
      "outputs": []
    },
    {
      "cell_type": "code",
      "metadata": {
        "id": "VAZ4QV9qjGll"
      },
      "source": [
        ""
      ],
      "execution_count": null,
      "outputs": []
    },
    {
      "cell_type": "code",
      "metadata": {
        "colab": {
          "base_uri": "https://localhost:8080/"
        },
        "id": "Ow4pbQMglriL",
        "outputId": "42a8d4e8-768b-45c2-ec18-72a53a702361"
      },
      "source": [
        "#Calcule a a accuracia \n",
        "\n",
        "lg = accuracy_score(y_test_data, predicao_lr)\n",
        "print(lg)"
      ],
      "execution_count": null,
      "outputs": [
        {
          "output_type": "stream",
          "name": "stdout",
          "text": [
            "0.8088026502602934\n"
          ]
        }
      ]
    },
    {
      "cell_type": "code",
      "metadata": {
        "id": "PZBaqi0klrmK"
      },
      "source": [
        ""
      ],
      "execution_count": null,
      "outputs": []
    },
    {
      "cell_type": "code",
      "metadata": {
        "colab": {
          "base_uri": "https://localhost:8080/",
          "height": 265
        },
        "id": "-dDApchDlrpW",
        "outputId": "8eb6bc9b-4dca-485d-fa0d-dc2222eac99b"
      },
      "source": [
        "#Motrar a confusion Matrix\n",
        "cm1 = confusion_matrix(y_test_data, predicao_lr)\n",
        "sns.heatmap(cm1/np.sum(cm1), annot = True, fmt=  '0.2%', cmap = 'Reds');"
      ],
      "execution_count": null,
      "outputs": [
        {
          "output_type": "display_data",
          "data": {
            "image/png": "[encoded data removed]",
            "text/plain": [
              "<Figure size 432x288 with 2 Axes>"
            ]
          },
          "metadata": {
            "needs_background": "light"
          }
        }
      ]
    },
    {
      "cell_type": "markdown",
      "metadata": {
        "id": "B5os5kRLlrs1"
      },
      "source": [
        "O modelo de regressão logística previu corretamente 80,88% dos clientes a serem retidos ou cancelados.\n",
        "\n",
        "- 66,54% previram corretamente que os clientes seriam retidos.\n",
        "\n",
        "- 14,34% previram corretamente a rotatividade de clientes.\n",
        "\n",
        "- 19,12% dos clientes foram incorretamente previstos como retidos ou cancelados.\n",
        "\n",
        "- 6,29% previram incorretamente a rotatividade dos clientes.\n",
        "\n",
        "- 12,83% previram incorretamente que os clientes seriam retidos."
      ]
    },
    {
      "cell_type": "code",
      "metadata": {
        "id": "WOMhY-Xkn97d"
      },
      "source": [
        ""
      ],
      "execution_count": null,
      "outputs": []
    },
    {
      "cell_type": "markdown",
      "metadata": {
        "id": "qogqL-RmlryX"
      },
      "source": [
        "ARVORE DE DECISÃO "
      ]
    },
    {
      "cell_type": "code",
      "metadata": {
        "id": "GkZ-GlOsoaym"
      },
      "source": [
        "#Crie uma instancia do classificador e atribua-a a uma variavel de modelo \n",
        "\n",
        "modelo_dt = DecisionTreeClassifier(criterion= 'entropy', random_state= 42)"
      ],
      "execution_count": null,
      "outputs": []
    },
    {
      "cell_type": "code",
      "metadata": {
        "id": "Lk7aLpM5oa3B",
        "colab": {
          "base_uri": "https://localhost:8080/"
        },
        "outputId": "e60596ec-717d-4ffe-b4a8-cd21510f098e"
      },
      "source": [
        "#Treinar o modelo usando o método de ajuste e os dados de treinamneto \n",
        "\n",
        "modelo_dt.fit(x_treino_data, y_treino_data)"
      ],
      "execution_count": null,
      "outputs": [
        {
          "output_type": "execute_result",
          "data": {
            "text/plain": [
              "DecisionTreeClassifier(ccp_alpha=0.0, class_weight=None, criterion='entropy',\n",
              "                       max_depth=None, max_features=None, max_leaf_nodes=None,\n",
              "                       min_impurity_decrease=0.0, min_impurity_split=None,\n",
              "                       min_samples_leaf=1, min_samples_split=2,\n",
              "                       min_weight_fraction_leaf=0.0, presort='deprecated',\n",
              "                       random_state=42, splitter='best')"
            ]
          },
          "metadata": {},
          "execution_count": 60
        }
      ]
    },
    {
      "cell_type": "code",
      "metadata": {
        "id": "3gGNktwdoa7B"
      },
      "source": [
        "#Previsão dos dados de teste\n",
        "\n",
        "predicao_d_teste = modelo_dt.predict(x_test_data)"
      ],
      "execution_count": null,
      "outputs": []
    },
    {
      "cell_type": "code",
      "metadata": {
        "id": "tlnSwE2Moa_n",
        "colab": {
          "base_uri": "https://localhost:8080/"
        },
        "outputId": "e0a0bd5c-305c-4817-d0e9-11587bac22b2"
      },
      "source": [
        "#Calcule a pontuação de precisão \n",
        "\n",
        "dt = accuracy_score(y_test_data, predicao_d_teste)\n",
        "print(dt)"
      ],
      "execution_count": null,
      "outputs": [
        {
          "output_type": "stream",
          "name": "stdout",
          "text": [
            "0.7283483199242783\n"
          ]
        }
      ]
    },
    {
      "cell_type": "code",
      "metadata": {
        "id": "nBMHQm3OobDs"
      },
      "source": [
        ""
      ],
      "execution_count": null,
      "outputs": []
    },
    {
      "cell_type": "markdown",
      "metadata": {
        "id": "OFh1I9lNobHh"
      },
      "source": [
        " Mostrar Confusion Maxtrix "
      ]
    },
    {
      "cell_type": "code",
      "metadata": {
        "id": "7gSOoBPGobeu",
        "colab": {
          "base_uri": "https://localhost:8080/",
          "height": 265
        },
        "outputId": "15132600-95bd-4437-cb4f-8a7e522f42fd"
      },
      "source": [
        "cm2 = confusion_matrix(y_test_data, predicao_d_teste)\n",
        "sns.heatmap(cm2 / np.sum(cm2), annot = True, fmt = '0.2%', cmap = 'Reds');"
      ],
      "execution_count": null,
      "outputs": [
        {
          "output_type": "display_data",
          "data": {
            "image/png": "[encoded data removed]",
            "text/plain": [
              "<Figure size 432x288 with 2 Axes>"
            ]
          },
          "metadata": {
            "needs_background": "light"
          }
        }
      ]
    },
    {
      "cell_type": "markdown",
      "metadata": {
        "id": "LBwGAIKLgKmE"
      },
      "source": [
        "O modelo de árvore de decisão previu corretamente que 72,84% dos clientes seriam retidos ou cancelados.\n",
        "\n",
        "- 59,16% previram corretamente que os clientes seriam retidos.\n",
        "\n",
        "- 13,68% previram corretamente a rotatividade de clientes.\n",
        "\n",
        "- 27,17% dos clientes foram incorretamente previstos para serem retidos ou cancelados.\n",
        "\n",
        "- 13,68% previram incorretamente a rotatividade dos clientes.\n",
        "\n",
        "- 13,49% previram incorretamente que os clientes seriam retidos."
      ]
    },
    {
      "cell_type": "code",
      "metadata": {
        "id": "iVIN-UyQgKpq"
      },
      "source": [
        ""
      ],
      "execution_count": null,
      "outputs": []
    },
    {
      "cell_type": "markdown",
      "metadata": {
        "id": "d8yV08sJgKsz"
      },
      "source": [
        "Random Forrest Model"
      ]
    },
    {
      "cell_type": "code",
      "metadata": {
        "id": "nB5IDe7AgKwW"
      },
      "source": [
        ""
      ],
      "execution_count": null,
      "outputs": []
    },
    {
      "cell_type": "code",
      "metadata": {
        "id": "oFu9yBgYgKz9"
      },
      "source": [
        "#Foi criado uma instancia do classificado e atribua uma variavel de modelo\n",
        "\n",
        "modelo_rf =  RandomForestClassifier(n_estimators= 100, max_depth= 10)"
      ],
      "execution_count": null,
      "outputs": []
    },
    {
      "cell_type": "markdown",
      "metadata": {
        "id": "5_moRcr3gK3a"
      },
      "source": [
        "Os parâmetros são:\n",
        "\n",
        "- n_estimators é o número de árvores na floresta\n",
        "- max_depth é a profundidade máxima da árvore"
      ]
    },
    {
      "cell_type": "code",
      "metadata": {
        "id": "xFqC9ksHgK6u"
      },
      "source": [
        ""
      ],
      "execution_count": null,
      "outputs": []
    },
    {
      "cell_type": "code",
      "metadata": {
        "colab": {
          "base_uri": "https://localhost:8080/"
        },
        "id": "XbIKMtgugK93",
        "outputId": "e4f4998f-8660-4e6d-cbe0-9ece0dee0b47"
      },
      "source": [
        "# O modelo vai ser treinado usando o método de ajustes e os dados de treinamento \n",
        "\n",
        "modelo_rf.fit(x_treino_data, y_treino_data)"
      ],
      "execution_count": null,
      "outputs": [
        {
          "output_type": "execute_result",
          "data": {
            "text/plain": [
              "RandomForestClassifier(bootstrap=True, ccp_alpha=0.0, class_weight=None,\n",
              "                       criterion='gini', max_depth=10, max_features='auto',\n",
              "                       max_leaf_nodes=None, max_samples=None,\n",
              "                       min_impurity_decrease=0.0, min_impurity_split=None,\n",
              "                       min_samples_leaf=1, min_samples_split=2,\n",
              "                       min_weight_fraction_leaf=0.0, n_estimators=100,\n",
              "                       n_jobs=None, oob_score=False, random_state=None,\n",
              "                       verbose=0, warm_start=False)"
            ]
          },
          "metadata": {},
          "execution_count": 70
        }
      ]
    },
    {
      "cell_type": "code",
      "metadata": {
        "id": "E8Wa81WYgLBz"
      },
      "source": [
        "#Vou fazer a previsão sobre os dados de teste\n",
        "\n",
        "predicao_rf = modelo_rf.predict(x_test_data)"
      ],
      "execution_count": null,
      "outputs": []
    },
    {
      "cell_type": "code",
      "metadata": {
        "colab": {
          "base_uri": "https://localhost:8080/"
        },
        "id": "S3S4Fj2AgLEz",
        "outputId": "f84c8191-413a-4353-fc3a-2872598ef3d9"
      },
      "source": [
        "#Vou calcular a porntuação de precisão \n",
        "\n",
        "rf = accuracy_score(y_test_data, predicao_rf)\n",
        "print(rf)"
      ],
      "execution_count": null,
      "outputs": [
        {
          "output_type": "stream",
          "name": "stdout",
          "text": [
            "0.8007572172266919\n"
          ]
        }
      ]
    },
    {
      "cell_type": "code",
      "metadata": {
        "id": "qDj5ySAbgLIi"
      },
      "source": [
        ""
      ],
      "execution_count": null,
      "outputs": []
    },
    {
      "cell_type": "markdown",
      "metadata": {
        "id": "cIfwZ-hmgLLy"
      },
      "source": [
        "Matriz de Confusão "
      ]
    },
    {
      "cell_type": "code",
      "metadata": {
        "colab": {
          "base_uri": "https://localhost:8080/",
          "height": 265
        },
        "id": "qR4LDgEhgLPU",
        "outputId": "5f0050d1-cae7-40e3-a30f-75ea48bc4778"
      },
      "source": [
        "cm3 = confusion_matrix(y_test_data, predicao_rf)\n",
        "sns.heatmap(cm3 / np.sum(cm3), annot= True, fmt= '0.2%', cmap='Reds');"
      ],
      "execution_count": null,
      "outputs": [
        {
          "output_type": "display_data",
          "data": {
            "image/png": "[encoded data removed]",
            "text/plain": [
              "<Figure size 432x288 with 2 Axes>"
            ]
          },
          "metadata": {
            "needs_background": "light"
          }
        }
      ]
    },
    {
      "cell_type": "markdown",
      "metadata": {
        "id": "OCWlAmdbgLTE"
      },
      "source": [
        "O modelo de forrest aleatório previu corretamente 79,98% dos clientes a serem retidos ou abandonados.\n",
        "\n",
        "- 66,78% previram corretamente que os clientes seriam retidos.\n",
        "- 13,20% previram corretamente a rotatividade de clientes.\n",
        "- 20,02% dos clientes foram incorretamente previstos como retidos ou cancelados.\n",
        "- 6,06% previram incorretamente a rotatividade dos clientes.\n",
        "- 13,96% previram incorretamente que os clientes seriam retidos."
      ]
    },
    {
      "cell_type": "code",
      "metadata": {
        "id": "vDEQq3sGgLV6"
      },
      "source": [
        ""
      ],
      "execution_count": null,
      "outputs": []
    },
    {
      "cell_type": "markdown",
      "metadata": {
        "id": "EF2-TwBeobjG"
      },
      "source": [
        "K VIZINHOS MAIS PRÓXIMOS"
      ]
    },
    {
      "cell_type": "code",
      "metadata": {
        "id": "pbF2yScFl_Da"
      },
      "source": [
        "#cRIA UMA INSTÂNCIA DO CLASSIFICAOD E ATRIBUA-SE  A UMA VARIÁVEL DE MODELO.\n",
        "\n",
        "modelo_kn = KNeighborsClassifier(n_neighbors= 9 , leaf_size= 20)"
      ],
      "execution_count": null,
      "outputs": []
    },
    {
      "cell_type": "code",
      "metadata": {
        "colab": {
          "base_uri": "https://localhost:8080/"
        },
        "id": "ZlQMEeCKmLZo",
        "outputId": "5294632f-4326-44bd-bb85-b31488ffde5f"
      },
      "source": [
        "#TREINA RO MODELO USANDO O MÉTODO DE AJUSTE E OS DADOS DE TREINAMENTO \n",
        "\n",
        "modelo_kn.fit(x_treino_data, y_treino_data)"
      ],
      "execution_count": null,
      "outputs": [
        {
          "output_type": "execute_result",
          "data": {
            "text/plain": [
              "KNeighborsClassifier(algorithm='auto', leaf_size=20, metric='minkowski',\n",
              "                     metric_params=None, n_jobs=None, n_neighbors=9, p=2,\n",
              "                     weights='uniform')"
            ]
          },
          "metadata": {},
          "execution_count": 77
        }
      ]
    },
    {
      "cell_type": "code",
      "metadata": {
        "id": "41PRcCb8mLow"
      },
      "source": [
        "#CRIAR A PREVISÃO SOBRE OS DADOS DE TESTE\n",
        "\n",
        "predicao_kn = modelo_kn.predict(x_test_data)"
      ],
      "execution_count": null,
      "outputs": []
    },
    {
      "cell_type": "code",
      "metadata": {
        "colab": {
          "base_uri": "https://localhost:8080/"
        },
        "id": "pUc9v_w-l_Hu",
        "outputId": "72181f70-4547-4385-b1c1-808775927d0c"
      },
      "source": [
        "#CALCULO DA PONTIUAÇÃO DE PRECISÃO \n",
        "\n",
        "kn = accuracy_score(y_test_data, predicao_kn)\n",
        "print(kn)"
      ],
      "execution_count": null,
      "outputs": [
        {
          "output_type": "stream",
          "name": "stdout",
          "text": [
            "0.7662091812588736\n"
          ]
        }
      ]
    },
    {
      "cell_type": "code",
      "metadata": {
        "colab": {
          "base_uri": "https://localhost:8080/",
          "height": 265
        },
        "id": "xqcf128ol_Lm",
        "outputId": "76009ae5-1fa1-4593-af6f-cef7284d82bd"
      },
      "source": [
        "#CRAFICO \n",
        "#Matriz de confusão \n",
        "\n",
        "cm4 = confusion_matrix(y_test_data, predicao_kn)\n",
        "sns.heatmap(cm4 / np.sum(cm4), annot = True, fmt= '0.2%', cmap= 'Reds');\n"
      ],
      "execution_count": null,
      "outputs": [
        {
          "output_type": "display_data",
          "data": {
            "image/png": "[encoded data removed]",
            "text/plain": [
              "<Figure size 432x288 with 2 Axes>"
            ]
          },
          "metadata": {
            "needs_background": "light"
          }
        }
      ]
    },
    {
      "cell_type": "markdown",
      "metadata": {
        "id": "FQe0hDu_l_Pe"
      },
      "source": [
        "O modelo de Vizinhos Mais Próximos K previu corretamente 76,62% dos clientes a serem retidos ou a abandonar.\n",
        "\n",
        "- 62,85% previram corretamente que os clientes seriam retidos.\n",
        "\n",
        "- 13,77% previram corretamente a rotatividade de clientes.\n",
        "\n",
        "- 23,38% dos clientes foram incorretamente previstos como retidos ou cancelados.\n",
        "\n",
        "- 9,99% previram incorretamente a rotatividade dos clientes.\n",
        "\n",
        "- 13,39% previram incorretamente que os clientes seriam retidos."
      ]
    },
    {
      "cell_type": "code",
      "metadata": {
        "id": "miVku3mpl_S_"
      },
      "source": [
        ""
      ],
      "execution_count": null,
      "outputs": []
    },
    {
      "cell_type": "markdown",
      "metadata": {
        "id": "o0ZVwc_YsvIk"
      },
      "source": [
        "MOSTRAR PONTUAÇÃO DE PRECISÃO POR MODELO "
      ]
    },
    {
      "cell_type": "code",
      "metadata": {
        "colab": {
          "base_uri": "https://localhost:8080/",
          "height": 432
        },
        "id": "PSWANdCisvMc",
        "outputId": "7749e1f7-a99a-4832-e4ba-0a6f41e3fad0"
      },
      "source": [
        "# Show Accuraccy Score by Model.\n",
        "models = pd.DataFrame({\n",
        "    'Modelo':['Regrassão Logística', 'Árvore de Decisão ', 'Floresta Aleatoria', 'KNeighbours'],\n",
        "    'Score_de_Precisao' :[lg, dt, rf, kn]\n",
        "})\n",
        "models\n",
        "sns.barplot(x='Score_de_Precisao', y='Modelo', data=models)\n",
        "\n",
        "models.sort_values(by='Score_de_Precisao', ascending=False)"
      ],
      "execution_count": null,
      "outputs": [
        {
          "output_type": "execute_result",
          "data": {
            "text/html": [
              "<div>\n",
              "<style scoped>\n",
              "    .dataframe tbody tr th:only-of-type {\n",
              "        vertical-align: middle;\n",
              "    }\n",
              "\n",
              "    .dataframe tbody tr th {\n",
              "        vertical-align: top;\n",
              "    }\n",
              "\n",
              "    .dataframe thead th {\n",
              "        text-align: right;\n",
              "    }\n",
              "</style>\n",
              "<table border=\"1\" class=\"dataframe\">\n",
              "  <thead>\n",
              "    <tr style=\"text-align: right;\">\n",
              "      <th></th>\n",
              "      <th>Modelo</th>\n",
              "      <th>Score_de_Precisao</th>\n",
              "    </tr>\n",
              "  </thead>\n",
              "  <tbody>\n",
              "    <tr>\n",
              "      <th>0</th>\n",
              "      <td>Regrassão Logística</td>\n",
              "      <td>0.808803</td>\n",
              "    </tr>\n",
              "    <tr>\n",
              "      <th>2</th>\n",
              "      <td>Floresta Aleatoria</td>\n",
              "      <td>0.800757</td>\n",
              "    </tr>\n",
              "    <tr>\n",
              "      <th>3</th>\n",
              "      <td>KNeighbours</td>\n",
              "      <td>0.766209</td>\n",
              "    </tr>\n",
              "    <tr>\n",
              "      <th>1</th>\n",
              "      <td>Árvore de Decisão</td>\n",
              "      <td>0.728348</td>\n",
              "    </tr>\n",
              "  </tbody>\n",
              "</table>\n",
              "</div>"
            ],
            "text/plain": [
              "                Modelo  Score_de_Precisao\n",
              "0  Regrassão Logística           0.808803\n",
              "2   Floresta Aleatoria           0.800757\n",
              "3          KNeighbours           0.766209\n",
              "1   Árvore de Decisão            0.728348"
            ]
          },
          "metadata": {},
          "execution_count": 89
        },
        {
          "output_type": "display_data",
          "data": {
            "image/png": "[encoded data removed]",
            "text/plain": [
              "<Figure size 432x288 with 1 Axes>"
            ]
          },
          "metadata": {
            "needs_background": "light"
          }
        }
      ]
    },
    {
      "cell_type": "markdown",
      "metadata": {
        "id": "rV1mMk2ztag7"
      },
      "source": [
        "Conclusões: \n",
        "\n",
        "O modelo de regressão lógica apresentou o maior escore de acerto. Esse modelo previu corretamente que 81% dos clientes seriam retidos ou se desligariam e 19% dos clientes seriam incorretamente previstos como retidos ou se desligariam.\n",
        "\n",
        "\n",
        "A maioria dos clientes que cancelaram tinha entre 1 e 9 meses na empresa, enquanto a maioria dos clientes retidos tinha um mandato entre 22 e 72 meses. A empresa pode considerar a possibilidade de oferecer incentivos aos clientes para retê-los por pelo menos 2 anos.\n",
        "\n",
        "\n",
        "A maioria dos clientes que ficaram com a empresa tinha uma cobrança mensal entre 18 e 30 dólares, enquanto a maioria dos clientes que cancelaram tinha uma cobrança mensal entre 70 e 110 dólares. A empresa pode considerar a redução de suas cobranças mensais para reter clientes e ser mais competitiva."
      ]
    },
    {
      "cell_type": "code",
      "metadata": {
        "id": "zJn4padGtalL"
      },
      "source": [
        ""
      ],
      "execution_count": null,
      "outputs": []
    }
  ]
}